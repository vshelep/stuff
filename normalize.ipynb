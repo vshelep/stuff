{
 "cells": [
  {
   "cell_type": "code",
   "execution_count": null,
   "metadata": {
    "collapsed": true
   },
   "outputs": [],
   "source": [
    "import pandas as pd\n",
    "import numpy as np\n",
    "import re\n",
    "from sqlalchemy import create_engine\n",
    "from cleans import clean_meters_property_name, clean_energy_property_name, clean_area_property_name, \\\n",
    "    clean_money_property_name, clean_weight_property_name"
   ]
  },
  {
   "cell_type": "code",
   "execution_count": null,
   "metadata": {},
   "outputs": [],
   "source": [
    "database = \"db_ua\"\n",
    "user = \"apiv2\"\n",
    "password = \"35GMHdDP9DLuKtnV\"\n",
    "host = \"34.141.85.48\""
   ]
  },
  {
   "cell_type": "code",
   "execution_count": null,
   "metadata": {},
   "outputs": [],
   "source": [
    "engine = create_engine(f\"mysql+pymysql://{user}:{password}@{host}:3306/{database}\")"
   ]
  },
  {
   "cell_type": "code",
   "execution_count": null,
   "metadata": {},
   "outputs": [],
   "source": [
    "df = pd.read_sql_table(\"aimap_object_properties\", engine)\n"
   ]
  },
  {
   "cell_type": "code",
   "execution_count": null,
   "outputs": [],
   "source": [
    "def clean_units(df):\n",
    "    # df[\"units\"] = df[\"units\"].str.replace(\"(\\d*,\\d*\\s)|(|,)(\\d*\\s)|(|,)(\\d*\\W\\d*)|(|,)(\\d*\\w)|(|,)(\\d*,\\d*)\", \"\", flags=re.IGNORECASE)\n",
    "    df[\"units\"] = df[\"units\"].str.replace(\n",
    "        \"((^[\\d.,\\s\\/-]*)|(\\d*\\(.*-\\s\\d*,\\d*\\s)|(^Шпаклювання)\\s*\\W*\\d*,\\d*\\s|()(^гараж\\d*,\\d*\\s)|\"\n",
    "        \"(^Шпаклівка\\s*\\W*\\s\\d*,\\s\\d*\\s*)|(^Складські)\\s\\W*\\d*|\\W*,\\s|\\W*\\s\\d*,\\d*\\s|^виробництво\\sплит\\sДСП|\"\n",
    "        \"^виробництво\\s\\W*\\w*|\\(\\W*\\)\\s|\\sзберігання|\\s-\\W\\s\\W*)\", \"\", flags=re.IGNORECASE)\n",
    "    df[\"units\"] = df[\"units\"].str.replace(\n",
    "        \"(\\s\\(основна\\)|\\(підсобна\\)|\\sкотельні|сушильних\\sкамер|\"\n",
    "        \"\\(І\\sчерга.*|приміщення\\s\\d*|\\(складських.*|\"\n",
    "        \"\\(.*|^Офісно-\\W+\\d\\W\\s\\W+\\d*,\\W\\d;\\s\\W*\\d\\W\\s\\W*\\d*\\s)\", \"\", flags=re.IGNORECASE)\n",
    "    df[\"units\"] = df[\"units\"].str.replace(\n",
    "        \"((|,)(поверх\\s\\d*-го\\sблоку\\s\\d\\Wти\\sповерхової\\sбудівлі)$|\"\n",
    "        \"(|,)(на четвертому поверсі чотириповерхового житлового будинку)$|(|,)(х\\d*)$|(|,)(\\Wтехнічний поверх)$|\"\n",
    "        \"(|,)(будівлі\\sз\\sтехнічним\\sповерхом\\s\\d*,\\d*)$|(|,)(цокольмансарда)$|\"\n",
    "        \"(|,)(на\\sпершому\\sповерсі\\sчотириповерхового\\sжитлового\\sбудинку)$|(|,)(з\\sмансардою)$|(|,)(\\W\\s\\d*,\\d*)$|\"\n",
    "        \"(|,)()$|(|,)((\\Wмансарда\\Wпідвал|\\Wмансарда))$|(|,)(третій\\sповерх\\sчотирьохповерхової\\sбудівлі)$|\"\n",
    "        \"(|,)(й\\sповерх\\sта\\sдругий\\sрівень\\s\\d-го\\sповерху)$|(|,)(%)$|(|,)(На\\s\\d\\sповерсі \\d-и\\sповерхового\\sбудинку)$|\"\n",
    "        \"(|,)(цокольний\\W\\d*)$|(|,)(\\)\\s\\d*\\W\\s\\d\\)\\s\\d*\\W\\s\\d\\)\\s\\d*)$|(|,)(\\d*)$|(|,)(поверх\\s\\d\\sповерхового\\sбудинку)$|\"\n",
    "        \"(|,)(т\\sв\\sзміну,теплова\\sпотужність\\sМвт0,6котел\\sпаровий\\sавтоматизований\\sна\\sтвердому\\sпаливі\\sз\\sвбудованим\"\n",
    "        \"\\sекономайзером\\s1штвид\\sпалива-\\sтверде\\sпаливо)$|(|,)((один\\sта\\sмансарда|один\\sз\\sмансардою|з\\sмансардою\\sу\"\n",
    "        \"\\sдвох\\sрівня|\\W\\sмансарда|\\Wцокольний\\Wмансардний|\\Wмансардний\\sповерх\\sта\\sпідвал|й\\sповерх\\sта\\sвлаштований\"\n",
    "        \"\\sв\\sрівні\\s\\d-го\\s\\d-й\\sповер|з\\sпідвалом|\\Wпідвал|\\Wтехповер|на\\sпершому\\sповерсі|підвальне\\sв\\sчотириповерхому\"\n",
    "        \"\\sжитловому\\sбудинку|\\W+1))$|(|,)(\\Wпідвал)$|(|,)(Залізобетонні\\sс\\/п\\sта\\sдерев'яні\\sшпали)$|(|,)(цоколь\\W\\d)$|\"\n",
    "        \"(|,)(\\W\\d\\W)$|(|,)(й\\sповерх\\s\\d-ти\\sповерхового\\sжитлового\\sбудинку)$|(повер)$|(з\\sцокольним\\sта\\sмансардними\\sповерхами)$|\"\n",
    "        \"(цокольний\\s\\W\\s\\d\\sповер\\\\|цокольний\\s\\W\\s\\d\\sповер)$|(х\\d*\\sголів)$|(\\Wмансарда\\Wпогреб)$|(технічний\\sповер)$|\"\n",
    "        \"(\\Wтехнічний)$|(\\WМАНСАРДНИЙ)$|(|,)(поверхів\\sз\\sцокольним\\sповерхом)$|(на першому  поверсі дев'ятиповерхового житлового будинку)$|\"\n",
    "        \"(\\W\\s\\d,\\d)$|(х\\d*)$|(цокольний поверх 5-ти поверхової будівлі)$|(металева конструкція)$|(індивідуальне газове)$|\"\n",
    "        \"(металеві конструкції з утепленням)$|(плоска утеплена покрівляПВХ мембрана)$|(й\\sта\\sвлаштований\\sу\\sпросторі\\s\"\n",
    "        \"\\d-го\\s\\sчетвертий\\sповерхи)$|(на\\sпершому\\sповерсі\\sдев'ятиповерхового\\sжитлового\\sбудинку)$|()$|(\\+)$|\"\n",
    "        \"((\\+мансарний\\+цокольний\\+підвальний|\\+мансардний\\+підвальний\\+цокольний))$|(на першому\\sповерсі\\s\"\n",
    "        \"\\d-поверхового\\sжитлового\\sбудинку)$|(й\\s;\\s\\d-й)$|(\\;)$|(й\\sта\\s\\d-й)$|(камінь\\sчерепашник)$|\"\n",
    "        \"(одноповерхова квартира на 1-му поверсі 9-ти поверхового будинку)$|(Бетонні блоки)$|(й поверх \\d-и поверхового будинку)$|\"\n",
    "        \"(з підвалом і надбудовою)$|^(ІІ - основна будівляприбудова завантажувальної зони - ІІІ)$|(на \\d-му\\sповерсі\\s\"\n",
    "        \"\\d-поверхового\\sжитлового\\sбудинку)$|(\\W\\sмансардний)$|(Цокольний\\sповерх\\sдвоповерхового\\sбудинку)$|\"\n",
    "        \"(з\\sмансардним\\sповерхом)$|(й\\sповерх\\s\\d-поверхового\\sбудинку)$|(на\\sпершому\\sповерсі\\sодноповерхового\\sжитлового\\sбудинку)$|\"\n",
    "        \"(;\\s\\d*\\/\\d*;\\s\\d\\/\\d;\\s\\d*;)$|((підвал\\s\\W|підвал\\W|ПІДВАЛ\\W))$|(з\\sцоколем)$|(й та влаштований у просторі 4-го 5-й поверхи)$|\"\n",
    "        \"(двоповерхова \\W одноповерхова прибудова)$|(квартира розташована на третьому поверсі шестиповерхового багатоквартирного житлового будинку)$|\"\n",
    "        \"(три з технічним поверхом з терасою та підвалом)$|(підвалу \\d-ти пов. будівлі)$|(поверх житлового будинку)$|(поверхи з цокольним поверхом)$|\"\n",
    "        \"(\\Wцоколь)$|(з підвалом та мансардою)$|(й поверх \\d-ти поверхового будинку)$|(\\W\\d*)$|(\\W\\s\\d*,\\d*\\W)$|(\\Wмансарда\\Wцокольний)$|(\\W\\s\\d*\\W)$|\"\n",
    "        \"(й та \\d-й поверх \\d-ти поверхового будинку)$|(цоколь\\W)$|(на \\d поверсі \\d-поверхового житлового будинку)$|(підвал\\W\\d-ий)$|(\\Wпідвальний)$|\"\n",
    "        \"(з\\sмансардним)$|(відвантаження в зміну)$|)\", \"\", flags=re.IGNORECASE)\n",
    "    # df[\"units\"] = df[\"units\"].str.replace(\"х\\d*\\sмм\\d\\s-\\s\\d,\\d*\", \"мм2\", flags=re.IGNORECASE)\n",
    "    # df['units'] = df['units'].replace(\"м2)\", \"м2\")\n",
    "    # df['units'] = df['units'].replace(\"Шпаклювання стін та укосів, 356,05 м2\", \"м2\")\n",
    "    # df['units'] = df['units'].replace(\"Шпаклювання стін та укосів356,05 м2\", \"м2\")\n",
    "    # df['units'] = df['units'].replace(\"АВБбШВ 4х95 мм2\", \"м2\")\n",
    "    # df['units'] = df['units'].replace(\"АВБбШВ 4х35 мм2 - 29,0\", \"м2\")\n",
    "    # df['units'] = df['units'].replace(\"Шпаклівка стін0 м2\", \"м2\")\n",
    "    # df['units'] = df['units'].replace(\"гаражм2\", \"м2\")\n",
    "    # df['units'] = df['units'].replace(\"торгова площа 37,91м2\", \"м2\")\n",
    "    # df['units'] = df['units'].replace(\"торгівельна площам2\", \"м2\")\n",
    "    # df['units'] = df['units'].replace(\"Адмінбудинокм2\", \"м2\")\n",
    "    # df['units'] = df['units'].replace(\"Цех- складм2\", \"м2\")\n",
    "    # df['units'] = df['units'].replace(\"Допоміжна площам2\", \"м2\")\n",
    "    # df['units'] = df['units'].replace(\"Загальна площа\", \"м2\")\n",
    "    # df['units'] = df['units'].replace(\"(303,53м2 -1-й пусковий комплекс; 1144,80м2- 2-й пусковий комплекс)\", \"м2\")\n",
    "    # df['units'] = df['units'].replace(\"Заповнення віконних прорізів готовими блоками площею до 3 м2 з металопластику\", \"м2\")\n",
    "    return df"
   ],
   "metadata": {
    "collapsed": false
   }
  },
  {
   "cell_type": "code",
   "execution_count": null,
   "metadata": {},
   "outputs": [],
   "source": [
    "property_df = df[\"property\"]\n",
    "# property_value_df = df[\"property_value\"]\n",
    "# full_df = property_value_df"
   ]
  },
  {
   "cell_type": "code",
   "execution_count": null,
   "metadata": {},
   "outputs": [],
   "source": [
    "property_value_df = df[df[\"property_value\"].notna()]"
   ]
  },
  {
   "cell_type": "code",
   "execution_count": null,
   "metadata": {},
   "outputs": [],
   "source": [
    "property_value_df['property'].unique()"
   ]
  },
  {
   "cell_type": "code",
   "execution_count": null,
   "metadata": {},
   "outputs": [],
   "source": [
    "property_value_df[\"normalize_property\"] = property_value_df[\"property\"]"
   ]
  },
  {
   "cell_type": "code",
   "execution_count": null,
   "metadata": {},
   "outputs": [],
   "source": [
    "property_value_df.dropna(subset=['property_value'])"
   ]
  },
  {
   "cell_type": "code",
   "execution_count": null,
   "metadata": {},
   "outputs": [],
   "source": [
    "property_value_df.value_counts()"
   ]
  },
  {
   "cell_type": "code",
   "execution_count": null,
   "metadata": {},
   "outputs": [],
   "source": [
    "property_value_df['property_value'] = property_value_df['property_value'].str.strip()\n",
    "property_value_df = property_value_df[property_value_df['property_value'] != \"\"]\n",
    "property_value_df = property_value_df[property_value_df['property_value'] != \" \"]\n",
    "property_value_df = property_value_df[property_value_df['property_value'] != \"0\"]\n",
    "property_value_df = property_value_df[property_value_df['property_value'] != \"-\"]\n",
    "property_value_df = property_value_df[property_value_df['property_value'] != \" - \"]\n",
    "property_value_df = property_value_df[property_value_df['property_value'] != \" -\"]\n",
    "property_value_df = property_value_df[property_value_df['property_value'] != \",\"]\n",
    "property_value_df = property_value_df[property_value_df['property_value'] != \"--\"]\n",
    "property_value_df = property_value_df[property_value_df['property_value'] != \"0,0\"]\n",
    "property_value_df = property_value_df[property_value_df['property_value'] != \"0,00\"]\n",
    "property_value_df = property_value_df[property_value_df['property_value'] != \"0 чол.\"]\n",
    "property_value_df = property_value_df[property_value_df['property_value'] != \"0 куб.м.\"]\n",
    "property_value_df = property_value_df[property_value_df['property_value'] != \"0 чол.\"]\n",
    "property_value_df = property_value_df[property_value_df['property_value'] != \"0 Гкал\"]\n",
    "property_value_df = property_value_df[property_value_df['property_value'] != \"0 кВт\"]\n",
    "property_value_df = property_value_df[property_value_df['property_value'] != \"0 кв. м\"]\n"
   ]
  },
  {
   "cell_type": "code",
   "execution_count": null,
   "metadata": {},
   "outputs": [],
   "source": [
    "property_value_df.value_counts()"
   ]
  },
  {
   "cell_type": "code",
   "execution_count": null,
   "metadata": {},
   "outputs": [],
   "source": [
    "#  # property_value_df.property == \"Площа\"\n",
    "# a = property_value_df.loc[property_value_df['property'] == \"Площа\"]\n",
    "# property_value_df[\"normalize_property\"] = property_value_df[\"normalize_property\"].str.replace(\"(\\sсм$|\\d\\s\\см|\\sм\\d|м.\\d|мм\\d|км|км.кв|м²|м³|кг|м.кв|кВт|тис.грн|грн|грн.|КВт|КВ.М.|(кв.м.)|\\sкв.|м.кв|куб.м|\\sод|МВт|мвт|\\sшт|\\sга|\\sртир|(\\sкуб.\\sм.)|(\\sкуб.)|\\sтис.|\\sга|(,\\sм.)|(,\\sтон)|(\\sтон)|(,\\sтон)|(\\sтон)|(,\\sкв.\\sм.)|(,\\sосіб\\/день)|рік|\\/|)\", \"\")\n",
    "# property_value_df['property'].unique()\n",
    "# # property_value_df['normalize_property'].unique()"
   ]
  },
  {
   "cell_type": "code",
   "execution_count": null,
   "metadata": {},
   "outputs": [],
   "source": [
    "property_value_df['normalize_property'].unique()"
   ]
  },
  {
   "cell_type": "code",
   "execution_count": null,
   "metadata": {},
   "outputs": [],
   "source": [
    "clean_meters_property_name(property_value_df)\n",
    "clean_energy_property_name(property_value_df)\n",
    "clean_area_property_name(property_value_df)\n",
    "clean_money_property_name(property_value_df)\n",
    "clean_weight_property_name(property_value_df)"
   ]
  },
  {
   "cell_type": "code",
   "execution_count": null,
   "metadata": {},
   "outputs": [],
   "source": [
    "property_value_df['normalize_property'].unique()\n",
    "# Розливання бітумної емульсії (0,4 л/м2) т.\n",
    "# УЛАШТУВАННЯ ОДНОШАРОВИХ АСФАЛЬТОБЕТОННИХ ПОКРИТТІВ ДОРІЖОК ТА ТРОТУАРІВ ІЗ ДРІБНОЗЕРНИСТОЇ АСФАЛЬТОБЕТОННОЇ СУМІШІ, КВ.М."
   ]
  },
  {
   "cell_type": "code",
   "execution_count": null,
   "metadata": {},
   "outputs": [],
   "source": [
    "import difflib\n",
    "property_value_df['normalize_property'] = property_value_df['normalize_property'].str.strip()\n",
    "property_value_df['normalize_property'] = property_value_df['normalize_property'].str.capitalize()"
   ]
  },
  {
   "cell_type": "code",
   "execution_count": null,
   "outputs": [],
   "source": [
    "property_value_df = property_value_df[property_value_df['normalize_property'] != \"\"]"
   ],
   "metadata": {
    "collapsed": false
   }
  },
  {
   "cell_type": "code",
   "execution_count": null,
   "metadata": {},
   "outputs": [],
   "source": [
    "property_value_df['normalize_property'].unique()"
   ]
  },
  {
   "cell_type": "code",
   "execution_count": null,
   "metadata": {},
   "outputs": [],
   "source": [
    "#  ---01.03---\n",
    "# Розрахунковий електричний струм, а\n",
    "# Довжина проїзної частини, м.\n",
    "# Ухил ділянки, %\n",
    "# Кількість робочих місць, роб.місце"
   ]
  },
  {
   "cell_type": "code",
   "execution_count": null,
   "metadata": {},
   "outputs": [],
   "source": [
    "# a = property_value_df.iloc[[2]][\"normalize_property\"]\n",
    "# b = property_value_df.iloc[[2]][\"normalize_property\"]\n",
    "# for i,s in enumerate(difflib.ndiff(a, b)):\n",
    "#     if s[0]==' ': continue\n",
    "#     elif s[0]=='-':\n",
    "#         print(u'Delete \"{}\" from position {}'.format(s[-1],i))\n",
    "#     elif s[0]=='+':\n",
    "#         print(u'Add \"{}\" to position {}'.format(s[-1],i))"
   ]
  },
  {
   "cell_type": "code",
   "execution_count": 28,
   "metadata": {},
   "outputs": [
    {
     "name": "stderr",
     "output_type": "stream",
     "text": [
      "C:\\Users\\dev-1\\AppData\\Local\\Temp\\ipykernel_6540\\1367561054.py:1: SettingWithCopyWarning: \n",
      "A value is trying to be set on a copy of a slice from a DataFrame.\n",
      "Try using .loc[row_indexer,col_indexer] = value instead\n",
      "\n",
      "See the caveats in the documentation: https://pandas.pydata.org/pandas-docs/stable/user_guide/indexing.html#returning-a-view-versus-a-copy\n",
      "  property_value_df[\"units\"] = property_value_df[\"property_value\"]\n"
     ]
    }
   ],
   "source": [
    "property_value_df[\"units\"] = property_value_df[\"property_value\"]"
   ]
  },
  {
   "cell_type": "code",
   "execution_count": null,
   "outputs": [],
   "source": [],
   "metadata": {
    "collapsed": false
   }
  },
  {
   "cell_type": "code",
   "execution_count": null,
   "outputs": [],
   "source": [
    "clean_units(property_value_df)"
   ],
   "metadata": {
    "collapsed": false
   }
  },
  {
   "cell_type": "code",
   "execution_count": 29,
   "outputs": [
    {
     "data": {
      "text/plain": "array(['26', '149296.6', '1', ..., '200.92', '60.49', '3141.72'],\n      dtype=object)"
     },
     "execution_count": 29,
     "metadata": {},
     "output_type": "execute_result"
    }
   ],
   "source": [
    "property_value_df[\"property_value\"].unique()"
   ],
   "metadata": {
    "collapsed": false
   }
  },
  {
   "cell_type": "code",
   "execution_count": null,
   "outputs": [],
   "source": [
    "property_value_df[\"units\"].unique()"
   ],
   "metadata": {
    "collapsed": false
   }
  },
  {
   "cell_type": "code",
   "execution_count": null,
   "outputs": [],
   "source": [
    "\n",
    "# +\n",
    "# +мансарний+цокольний+підвальний\n",
    "# +мансардний+підвальний+цокольний\n",
    "# на першому поверсі 5-поверхового житлового будинку\n",
    "# й ; 2-й\n",
    "# ;\n",
    "# й та 2-й\n",
    "# камінь черепашник\n",
    "# одноповерхова квартира на 1-му поверсі 9-ти поверхового будинку\n",
    "# Бетонні блоки\n",
    "# й поверх 3-и поверхового будинку\n",
    "# з підвалом і надбудовою\n"
   ],
   "metadata": {
    "collapsed": false
   }
  },
  {
   "cell_type": "code",
   "execution_count": null,
   "outputs": [],
   "source": [
    "# property_value_df['units'].fillna(property_value_df['property'], inplace=True)"
   ],
   "metadata": {
    "collapsed": false
   }
  },
  {
   "cell_type": "code",
   "execution_count": null,
   "outputs": [],
   "source": [
    "property_value_df['units'] = property_value_df['units'].replace('', pd.NA).fillna(property_value_df['property'])"
   ],
   "metadata": {
    "collapsed": false
   }
  },
  {
   "cell_type": "code",
   "execution_count": null,
   "outputs": [],
   "source": [
    "property_value_df['units'] = property_value_df['units'].replace(\"Площа\", \"м2\")"
   ],
   "metadata": {
    "collapsed": false
   }
  },
  {
   "cell_type": "code",
   "execution_count": null,
   "outputs": [],
   "source": [
    "property_value_df['units'] = property_value_df['units'].str.strip()"
   ],
   "metadata": {
    "collapsed": false
   }
  },
  {
   "cell_type": "code",
   "execution_count": null,
   "outputs": [],
   "source": [
    "property_value_df['units'].unique()"
   ],
   "metadata": {
    "collapsed": false
   }
  },
  {
   "cell_type": "code",
   "execution_count": 31,
   "outputs": [
    {
     "data": {
      "text/plain": "              id  aimap_id            property property_value  \\\n4              5         3  Кількість поверхів             26   \n5              6         3               Площа       149296.6   \n6              7         4  Кількість поверхів              1   \n7              8         4               Площа          279.4   \n8              9         5  Кількість поверхів              1   \n...          ...       ...                 ...            ...   \n3353509  3650419   3052965           Фундамент          Бетон   \n3353510  3650420   3052965             Підлоги        Ламінат   \n3353511  3650421   3052965            Покриття       Руберойд   \n3353512  3650422   3052965               Сходи        Бетонні   \n3353513  3650423   3052965        Сміттєпровід            Так   \n\n         normalize_property     units  \n4        Кількість поверхів        26  \n5                     Площа  149296.6  \n6        Кількість поверхів         1  \n7                     Площа     279.4  \n8        Кількість поверхів         1  \n...                     ...       ...  \n3353509           Фундамент     Бетон  \n3353510             Підлоги   Ламінат  \n3353511            Покриття  Руберойд  \n3353512               Сходи   Бетонні  \n3353513        Сміттєпровід       Так  \n\n[1717988 rows x 6 columns]",
      "text/html": "<div>\n<style scoped>\n    .dataframe tbody tr th:only-of-type {\n        vertical-align: middle;\n    }\n\n    .dataframe tbody tr th {\n        vertical-align: top;\n    }\n\n    .dataframe thead th {\n        text-align: right;\n    }\n</style>\n<table border=\"1\" class=\"dataframe\">\n  <thead>\n    <tr style=\"text-align: right;\">\n      <th></th>\n      <th>id</th>\n      <th>aimap_id</th>\n      <th>property</th>\n      <th>property_value</th>\n      <th>normalize_property</th>\n      <th>units</th>\n    </tr>\n  </thead>\n  <tbody>\n    <tr>\n      <th>4</th>\n      <td>5</td>\n      <td>3</td>\n      <td>Кількість поверхів</td>\n      <td>26</td>\n      <td>Кількість поверхів</td>\n      <td>26</td>\n    </tr>\n    <tr>\n      <th>5</th>\n      <td>6</td>\n      <td>3</td>\n      <td>Площа</td>\n      <td>149296.6</td>\n      <td>Площа</td>\n      <td>149296.6</td>\n    </tr>\n    <tr>\n      <th>6</th>\n      <td>7</td>\n      <td>4</td>\n      <td>Кількість поверхів</td>\n      <td>1</td>\n      <td>Кількість поверхів</td>\n      <td>1</td>\n    </tr>\n    <tr>\n      <th>7</th>\n      <td>8</td>\n      <td>4</td>\n      <td>Площа</td>\n      <td>279.4</td>\n      <td>Площа</td>\n      <td>279.4</td>\n    </tr>\n    <tr>\n      <th>8</th>\n      <td>9</td>\n      <td>5</td>\n      <td>Кількість поверхів</td>\n      <td>1</td>\n      <td>Кількість поверхів</td>\n      <td>1</td>\n    </tr>\n    <tr>\n      <th>...</th>\n      <td>...</td>\n      <td>...</td>\n      <td>...</td>\n      <td>...</td>\n      <td>...</td>\n      <td>...</td>\n    </tr>\n    <tr>\n      <th>3353509</th>\n      <td>3650419</td>\n      <td>3052965</td>\n      <td>Фундамент</td>\n      <td>Бетон</td>\n      <td>Фундамент</td>\n      <td>Бетон</td>\n    </tr>\n    <tr>\n      <th>3353510</th>\n      <td>3650420</td>\n      <td>3052965</td>\n      <td>Підлоги</td>\n      <td>Ламінат</td>\n      <td>Підлоги</td>\n      <td>Ламінат</td>\n    </tr>\n    <tr>\n      <th>3353511</th>\n      <td>3650421</td>\n      <td>3052965</td>\n      <td>Покриття</td>\n      <td>Руберойд</td>\n      <td>Покриття</td>\n      <td>Руберойд</td>\n    </tr>\n    <tr>\n      <th>3353512</th>\n      <td>3650422</td>\n      <td>3052965</td>\n      <td>Сходи</td>\n      <td>Бетонні</td>\n      <td>Сходи</td>\n      <td>Бетонні</td>\n    </tr>\n    <tr>\n      <th>3353513</th>\n      <td>3650423</td>\n      <td>3052965</td>\n      <td>Сміттєпровід</td>\n      <td>Так</td>\n      <td>Сміттєпровід</td>\n      <td>Так</td>\n    </tr>\n  </tbody>\n</table>\n<p>1717988 rows × 6 columns</p>\n</div>"
     },
     "execution_count": 31,
     "metadata": {},
     "output_type": "execute_result"
    }
   ],
   "source": [
    "property_value_df.drop_duplicates()"
   ],
   "metadata": {
    "collapsed": false
   }
  }
 ],
 "metadata": {
  "kernelspec": {
   "display_name": "Python 3 (ipykernel)",
   "language": "python",
   "name": "python3"
  },
  "language_info": {
   "codemirror_mode": {
    "name": "ipython",
    "version": 2
   },
   "file_extension": ".py",
   "mimetype": "text/x-python",
   "name": "python",
   "nbconvert_exporter": "python",
   "pygments_lexer": "ipython2",
   "version": "2.7.6"
  }
 },
 "nbformat": 4,
 "nbformat_minor": 1
}
