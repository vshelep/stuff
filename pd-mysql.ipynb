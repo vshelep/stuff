{
 "cells": [
  {
   "cell_type": "code",
   "execution_count": 1,
   "metadata": {
    "collapsed": true
   },
   "outputs": [],
   "source": [
    "import pandas as pd\n",
    "from sqlalchemy import create_engine"
   ]
  },
  {
   "cell_type": "code",
   "execution_count": 2,
   "outputs": [],
   "source": [
    "database = \"db_ua\"\n",
    "user = \"apiv2\"\n",
    "password = \"35GMHdDP9DLuKtnV\"\n",
    "host = \"34.141.85.48\""
   ],
   "metadata": {
    "collapsed": false
   }
  },
  {
   "cell_type": "code",
   "execution_count": 3,
   "outputs": [],
   "source": [
    "engine = create_engine(f\"mysql+pymysql://{user}:{password}@{host}:3306/{database}\")"
   ],
   "metadata": {
    "collapsed": false
   }
  },
  {
   "cell_type": "code",
   "execution_count": 4,
   "outputs": [],
   "source": [
    "df = pd.read_sql_table(\"aimap_object_properties\", engine)\n"
   ],
   "metadata": {
    "collapsed": false
   }
  },
  {
   "cell_type": "code",
   "execution_count": 5,
   "outputs": [],
   "source": [
    "property_df = df[\"property\"]\n",
    "property_value_df = df[\"property_value\"]\n",
    "full_df = property_value_df"
   ],
   "metadata": {
    "collapsed": false
   }
  },
  {
   "cell_type": "code",
   "execution_count": null,
   "outputs": [],
   "source": [
    "def has_numbers(inputString):\n",
    "\tif not any(char.isdigit() for char in inputString):\n",
    "\t\treturn inputString"
   ],
   "metadata": {
    "collapsed": false
   }
  },
  {
   "cell_type": "code",
   "execution_count": null,
   "outputs": [],
   "source": [
    "def isNumber (value):\n",
    "    return True if type(value) in [int, float] else str(value).replace('.','',1).isdigit()"
   ],
   "metadata": {
    "collapsed": false
   }
  },
  {
   "cell_type": "code",
   "execution_count": null,
   "outputs": [],
   "source": [
    "def func_for_min(property_value):\n",
    "    lst = []\n",
    "    garbage = [\"\", \"-,\"]\n",
    "    property_value = property_value.replace(\",\", \".\")\n",
    "    splitted = property_value.split(\"-\").strip()\n",
    "    if len(splitted) == 2 and splitted not in garbage:\n",
    "        pass"
   ],
   "metadata": {
    "collapsed": false
   }
  },
  {
   "cell_type": "code",
   "execution_count": null,
   "outputs": [],
   "source": [
    "def func_for_max(property_value):\n",
    "    garbage = [\"\", \"-,\"]\n",
    "    property_value = property_value.replace(\",\", \".\")\n",
    "    splitted = property_value.split(\"-\")\n",
    "    if len(splitted) == 2 and splitted not in garbage:\n",
    "        print(splitted)"
   ],
   "metadata": {
    "collapsed": false
   }
  },
  {
   "cell_type": "code",
   "execution_count": null,
   "outputs": [],
   "source": [
    "property_value_df = df[df[\"property_value\"].notna()]\n",
    "# value_with_m = property_value_df[property_value_df[\"property_value\"].str.contains('м')]\n",
    "# print(\"металева конструкція\" in value_with_m.values)\n",
    "property_value_df[\"units\"] = property_value_df[\"property_value\"]\n",
    "property_value_df[\"units\"] = property_value_df[\"units\"].str.replace(\"^[\\d .,-]+\", \"\")\n",
    "property_value_df[\"units\"] = property_value_df[\"units\"].str.replace(\"\\s{1}\\d.*\", \"\")\n",
    "property_value_df[\"units\"] = property_value_df[\"units\"].str.replace(\"/d*\", \"\")\n",
    "property_value_df[\"units\"] = property_value_df[\"units\"].str.replace(\"^[\\d .,-]+\", \"\")\n",
    "property_value_df[\"units\"] = property_value_df[\"units\"].str.replace(\"\\W.*\\w[\\d.,-]\", \"\")\n",
    "property_value_df[\"units\"] = property_value_df[\"units\"].str.replace(\"\\s{1}.*\", \"\")\n",
    "property_value_df[\"property_value\"] = property_value_df[\"property_value\"].str.replace(\"^[A-Za-z][A-Za-z0-9](.)*$\", \"\")\n",
    "property_value_df[\"property_value\"] = property_value_df[\"property_value\"].str.replace(\"№(\\d+)\", \"\")\n",
    "property_value_df[\"property_value\"] = property_value_df[\"property_value\"].str.replace(\"[А-ЩЬЮЯҐЄІЇа-щьюяґєії\\+\\²\\;\\(\\)\\/'\\%]\", \"\")\n",
    "property_value_df[\"property_value\"] = property_value_df[\"property_value\"].str.replace(\"\\xa0\", \"\")\n",
    "property_value_df[\"property_value\"] = property_value_df[\"property_value\"].str.replace(\"([^\\d]+$)\", \"\")\n",
    "property_value_df[\"property_value\"] = property_value_df[\"property_value\"].str.replace(\" .*\", \"\")\n",
    "# property_value_df[\"units\"] = property_value_df[\"units\"].fillna(property_value_df[\"property\"])\n",
    "property_value_df[\"units\"] = property_value_df[\"units\"].replace('', pd.NA).fillna(property_value_df[\"property\"])\n",
    "property_value_df[\"units\"] = property_value_df[\"units\"].str.replace(\"^[\\d .,-]+\", \"\")\n",
    "property_value_df[\"units\"] = property_value_df[\"units\"].str.replace(\"\\s{1}\\d.*\", \"\")\n",
    "property_value_df[\"units\"] = property_value_df[\"units\"].str.replace(\"/d*\", \"\")\n",
    "property_value_df[\"units\"] = property_value_df[\"units\"].str.replace(\"^[\\d .,-]+\", \"\")\n",
    "property_value_df[\"units\"] = property_value_df[\"units\"].str.replace(\"\\W.*\\w[\\d.,-]\", \"\")\n",
    "property_value_df[\"units\"] = property_value_df[\"units\"].str.replace(\"\\s{1}.*\", \"\")"
   ],
   "metadata": {
    "collapsed": false
   }
  },
  {
   "cell_type": "code",
   "execution_count": null,
   "outputs": [],
   "source": [
    "# splt = property_value_df[\"property_value\"].str.split(\"-\")\n",
    "# max_lst_property = []\n",
    "# min_lst_property = []\n",
    "# 3201642\n",
    "\n",
    "# for items in splt:\n",
    "# \tif len(items) == 2:\n",
    "# \t\tif \"\" in items:\n",
    "# \t\t\titems.remove(\"\")\n",
    "# \tif len(items) == 2:\n",
    "# \t\titems[1]\n",
    "# \t\titems[0]"
   ],
   "metadata": {
    "collapsed": false
   }
  },
  {
   "cell_type": "code",
   "execution_count": null,
   "outputs": [],
   "source": [
    "# property_value_df[\"max\"] = property_value_df.apply(lambda x: func_for_max(x[\"property_value\"]), axis=1)\n",
    "# property_value_df[\"min\"] = property_value_df.apply(lambda x: func_for_min(x[\"property_value\"]), axis=1)"
   ],
   "metadata": {
    "collapsed": false
   }
  },
  {
   "cell_type": "code",
   "execution_count": 6,
   "outputs": [],
   "source": [
    "property_value_df = df[df[\"property_value\"].notna()]"
   ],
   "metadata": {
    "collapsed": false
   }
  },
  {
   "cell_type": "code",
   "execution_count": null,
   "outputs": [],
   "source": [
    "\n",
    "\n",
    "# # 2983538\n",
    "\n",
    "\n",
    "# 2766912\n",
    "# # property_value_df[\"units\"] = property_value_df[\"units\"].str.replace(\",\", \"\")"
   ],
   "metadata": {
    "collapsed": false
   }
  },
  {
   "cell_type": "code",
   "execution_count": null,
   "outputs": [],
   "source": [
    "acronyms = [\"м\", \"м.\", \"м2\",\"м3\",\"км\",\"км.\",\"кв.м\",\"кв.\",\"м.кв\",\"кв\",\"років\",\"місяців\",\"місяці\",\"міс.\",\"шт\",\"шт.\",\"кВт\",\"тис\",\"тис.\",\n",
    "            \"поверх\",\"куб.м\",\"чол\",\"осіб\",\"чоловік\",\"га\",\"тис.грн\",\"грн.\",\"МВт\",\"місць\",\"Мет.\",\"м.куб\",\"т\",\"од.\",\"особи\",\"люд\",\"місця\",\"пов.\",\"м²\",\"куб.\",\"м3добу\",\"тон\",\"метрів\",\"місце\",\"мп\",\"тгод\",\"людгод\",\"Вт\",\"днів\",\"р.\",\"кВтрік\",\"КВ\",\"кВА\",\"кВт*годрік\",\"кВТ\",\"тонрік\",\"тис.кВтгод\",\"м.п\",\"мм\",\"чол.добу\",\"люд.дні\",\"од\",\n",
    "]"
   ],
   "metadata": {
    "collapsed": false
   }
  },
  {
   "cell_type": "code",
   "execution_count": null,
   "outputs": [],
   "source": [
    "property_value_df[\"property\"] = property_value_df[\"property\"].str.replace(\"(см|\\d\\s\\см|\\sм\\d|м.\\d|мм\\d|км|км.кв|м²|м³|кг|м.кв|кВт|тис.грн|грн|грн.|КВт|КВ.М.|кв.м|кв.|м.кв|куб.м|од|МВт|мвт|\\sшт|\\sга|ртир|куб.|\\sтис.)\", \"\")\n",
    "# property_value_df[\"property\"] = property_value_df[\"property\"].str.replace(\" ?\\b[А-ЩЬЮЯҐЄІЇа-щьюяґєії.]{2,3}\\b\", \"\")\n",
    "\n",
    "\n",
    "\n",
    "#2712212\n",
    "\n",
    "# property_value_df[\"units\"].value_counts()"
   ],
   "metadata": {
    "collapsed": false
   }
  },
  {
   "cell_type": "code",
   "execution_count": 9,
   "outputs": [
    {
     "ename": "KeyError",
     "evalue": "'property'",
     "output_type": "error",
     "traceback": [
      "\u001B[1;31m---------------------------------------------------------------------------\u001B[0m",
      "\u001B[1;31mKeyError\u001B[0m                                  Traceback (most recent call last)",
      "Cell \u001B[1;32mIn[9], line 1\u001B[0m\n\u001B[1;32m----> 1\u001B[0m \u001B[43mproperty_value_df\u001B[49m\u001B[43m[\u001B[49m\u001B[38;5;124;43m'\u001B[39;49m\u001B[38;5;124;43mproperty\u001B[39;49m\u001B[38;5;124;43m'\u001B[39;49m\u001B[43m]\u001B[49m\u001B[38;5;241m.\u001B[39munique()\n",
      "File \u001B[1;32m~\\Projects\\stuff\\venv\\lib\\site-packages\\pandas\\core\\series.py:981\u001B[0m, in \u001B[0;36mSeries.__getitem__\u001B[1;34m(self, key)\u001B[0m\n\u001B[0;32m    978\u001B[0m     \u001B[38;5;28;01mreturn\u001B[39;00m \u001B[38;5;28mself\u001B[39m\u001B[38;5;241m.\u001B[39m_values[key]\n\u001B[0;32m    980\u001B[0m \u001B[38;5;28;01melif\u001B[39;00m key_is_scalar:\n\u001B[1;32m--> 981\u001B[0m     \u001B[38;5;28;01mreturn\u001B[39;00m \u001B[38;5;28;43mself\u001B[39;49m\u001B[38;5;241;43m.\u001B[39;49m\u001B[43m_get_value\u001B[49m\u001B[43m(\u001B[49m\u001B[43mkey\u001B[49m\u001B[43m)\u001B[49m\n\u001B[0;32m    983\u001B[0m \u001B[38;5;28;01mif\u001B[39;00m is_hashable(key):\n\u001B[0;32m    984\u001B[0m     \u001B[38;5;66;03m# Otherwise index.get_value will raise InvalidIndexError\u001B[39;00m\n\u001B[0;32m    985\u001B[0m     \u001B[38;5;28;01mtry\u001B[39;00m:\n\u001B[0;32m    986\u001B[0m         \u001B[38;5;66;03m# For labels that don't resolve as scalars like tuples and frozensets\u001B[39;00m\n",
      "File \u001B[1;32m~\\Projects\\stuff\\venv\\lib\\site-packages\\pandas\\core\\series.py:1089\u001B[0m, in \u001B[0;36mSeries._get_value\u001B[1;34m(self, label, takeable)\u001B[0m\n\u001B[0;32m   1086\u001B[0m     \u001B[38;5;28;01mreturn\u001B[39;00m \u001B[38;5;28mself\u001B[39m\u001B[38;5;241m.\u001B[39m_values[label]\n\u001B[0;32m   1088\u001B[0m \u001B[38;5;66;03m# Similar to Index.get_value, but we do not fall back to positional\u001B[39;00m\n\u001B[1;32m-> 1089\u001B[0m loc \u001B[38;5;241m=\u001B[39m \u001B[38;5;28;43mself\u001B[39;49m\u001B[38;5;241;43m.\u001B[39;49m\u001B[43mindex\u001B[49m\u001B[38;5;241;43m.\u001B[39;49m\u001B[43mget_loc\u001B[49m\u001B[43m(\u001B[49m\u001B[43mlabel\u001B[49m\u001B[43m)\u001B[49m\n\u001B[0;32m   1090\u001B[0m \u001B[38;5;28;01mreturn\u001B[39;00m \u001B[38;5;28mself\u001B[39m\u001B[38;5;241m.\u001B[39mindex\u001B[38;5;241m.\u001B[39m_get_values_for_loc(\u001B[38;5;28mself\u001B[39m, loc, label)\n",
      "File \u001B[1;32m~\\Projects\\stuff\\venv\\lib\\site-packages\\pandas\\core\\indexes\\range.py:395\u001B[0m, in \u001B[0;36mRangeIndex.get_loc\u001B[1;34m(self, key, method, tolerance)\u001B[0m\n\u001B[0;32m    393\u001B[0m             \u001B[38;5;28;01mraise\u001B[39;00m \u001B[38;5;167;01mKeyError\u001B[39;00m(key) \u001B[38;5;28;01mfrom\u001B[39;00m \u001B[38;5;21;01merr\u001B[39;00m\n\u001B[0;32m    394\u001B[0m     \u001B[38;5;28mself\u001B[39m\u001B[38;5;241m.\u001B[39m_check_indexing_error(key)\n\u001B[1;32m--> 395\u001B[0m     \u001B[38;5;28;01mraise\u001B[39;00m \u001B[38;5;167;01mKeyError\u001B[39;00m(key)\n\u001B[0;32m    396\u001B[0m \u001B[38;5;28;01mreturn\u001B[39;00m \u001B[38;5;28msuper\u001B[39m()\u001B[38;5;241m.\u001B[39mget_loc(key, method\u001B[38;5;241m=\u001B[39mmethod, tolerance\u001B[38;5;241m=\u001B[39mtolerance)\n",
      "\u001B[1;31mKeyError\u001B[0m: 'property'"
     ]
    }
   ],
   "source": [
    "property_value_df['property'].unique()"
   ],
   "metadata": {
    "collapsed": false
   }
  },
  {
   "cell_type": "code",
   "execution_count": null,
   "outputs": [],
   "source": [
    "# from spellchecker import SpellChecker\n",
    "#\n",
    "# spell = SpellChecker()\n",
    "# property_value_df[\"Column 2\"] = property_value_df.assign(\n",
    "#     misspelled=property_value_df[\"property_value\"].str.split().map(spell.unknown),\n",
    "#     acronyms=property_value_df[\"property_value\"].str.findall(r\"([А-ЩЬЮЯҐЄІЇа-щьюяґєії]){2,}|([А-ЩЬЮЯҐЄІЇа-щьюяґєії])\\d\").map(set)\n",
    "# )[[\"misspelled\", \"acronyms\"]].apply(lambda row: set.union(*row), axis=1)"
   ],
   "metadata": {
    "collapsed": false
   }
  },
  {
   "cell_type": "code",
   "execution_count": null,
   "outputs": [],
   "source": [
    "# result = set.union(*property_value_df[\"Column 2\"])\n",
    "# result_t = list(result)"
   ],
   "metadata": {
    "collapsed": false
   }
  },
  {
   "cell_type": "code",
   "execution_count": null,
   "outputs": [],
   "source": [
    "# sdt_result = {x for x in result_t if not isinstance(x, str)}\n",
    "# f_res = result - sdt_result\n",
    "# f_res = list(f_res)\n",
    "# words = [word.replace(',','.') for word in f_res]\n",
    "# results = [i for i in words if not i.isalpha()]\n",
    "# print(\"м2\" in results)"
   ],
   "metadata": {
    "collapsed": false
   }
  }
 ],
 "metadata": {
  "kernelspec": {
   "display_name": "Python 3",
   "language": "python",
   "name": "python3"
  },
  "language_info": {
   "codemirror_mode": {
    "name": "ipython",
    "version": 2
   },
   "file_extension": ".py",
   "mimetype": "text/x-python",
   "name": "python",
   "nbconvert_exporter": "python",
   "pygments_lexer": "ipython2",
   "version": "2.7.6"
  }
 },
 "nbformat": 4,
 "nbformat_minor": 0
}
